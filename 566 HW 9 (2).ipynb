{
 "cells": [
  {
   "cell_type": "code",
   "execution_count": 208,
   "metadata": {},
   "outputs": [],
   "source": [
    "import scipy as sp\n",
    "import numpy as np\n",
    "import scipy.integrate as spint\n",
    "import math\n",
    "import matplotlib.pyplot as plt\n",
    "import scipy.misc as misc"
   ]
  },
  {
   "cell_type": "code",
   "execution_count": 214,
   "metadata": {},
   "outputs": [
    {
     "name": "stdout",
     "output_type": "stream",
     "text": [
      "[5.64347182e+00 2.78294112e-01 2.00963690e-05 0.00000000e+00\n",
      " 8.88178420e-16 0.00000000e+00]\n",
      "[1.77245385e+00 1.77221107e+00 1.00722024e+00 1.22583993e-02\n",
      " 1.00354614e-10 6.66133815e-16]\n"
     ]
    }
   ],
   "source": [
    "#Problem one part one\n",
    "def fa(x):\n",
    "    return np.exp(np.cos(x))\n",
    "\n",
    "trua = spint.quad(fa, -np.pi, np.pi)\n",
    "apts = np.zeros(6)\n",
    "\n",
    "def fb(x):\n",
    "    return np.exp(-((x+.1)**2))\n",
    "\n",
    "trub = spint.quad(fb, -10, 10)\n",
    "bpts = np.zeros(6)\n",
    "\n",
    "#part a\n",
    "for i in range (1, 7):\n",
    "    pts = np.linspace(-np.pi, np.pi, 2**i)\n",
    "    fpts = fa(pts)\n",
    "    apts[i-1] = np.abs(spint.trapz(fpts, x = pts) - trua[0])\n",
    "\n",
    "print(apts)\n",
    "#part b\n",
    "for i in range (1, 7):\n",
    "    pts = np.linspace(-10, 10, 2**i)\n",
    "    fpts = fb(pts)\n",
    "    bpts[i-1] = np.abs(spint.trapz(fpts, x = pts) - trub[0])\n",
    "\n",
    "print(bpts)\n",
    "\n",
    "#The first function experiences rapid convergence because it is periodic. Due to the fact that it is periodic, the\n",
    "#derivatives in the Taylor expansion cancel, leading to the order of the convergence increasing as h shrinks.\n",
    "\n",
    "#For the second function, it is basically just a typical Gaussian distribution function, which also makes the endpoint\n",
    "#derivatives negligible. This means that while the derivatives do not fully cancel, they are incredibly small beyond\n",
    "#what would be expected in normal error analysis, so the function converges faster as h shrinks."
   ]
  },
  {
   "cell_type": "code",
   "execution_count": 210,
   "metadata": {},
   "outputs": [
    {
     "name": "stdout",
     "output_type": "stream",
     "text": [
      "[1.08675199 1.08674333 0.90336298 0.20282533 0.03657831 0.00843673]\n"
     ]
    }
   ],
   "source": [
    "#Problem one part two\n",
    "\n",
    "def fb(x):\n",
    "    return np.exp(-((x+.1)**2))*np.exp(-np.abs(x))\n",
    "\n",
    "def fp(x):\n",
    "    return misc.derivative(fb, x)\n",
    "\n",
    "trub = spint.quad(fb, -10, 10)\n",
    "bpts = np.zeros(6)\n",
    "\n",
    "for i in range (1, 7):\n",
    "    pts = np.linspace(-10, 10, 2**i)\n",
    "    fpts = fb(pts)\n",
    "    bpts[i-1] = spint.trapz(fpts, x = pts)\n",
    "    bpts[i-1] = np.abs(bpts[i-1] - trub[0])\n",
    "\n",
    "#from the points, we can clearly see second order convergence\n",
    "print(bpts)\n",
    "\n",
    "#This function has a derivative discontinuity at x = 0, which is in the interval. This means that in the Taylor\n",
    "#expansion the endpoints trending to 0 does not improve accuracy because of the sharp spike in derivative values near \n",
    "#0, which offsets any gain from negligible derivatives near the ends."
   ]
  },
  {
   "cell_type": "markdown",
   "metadata": {},
   "source": [
    "Problem one part three\n",
    "\n",
    "Using the error formula, we have that error $E = \\frac{-h^2}{12}(f'(b) - f'(a)) + O(h^4)$. Taking the derivative of the function $f(x)$, we know the derivative of $g(x)e^{-|x|} = \\frac{e^{-|x|}(|x|g'(x) - xg(x))}{|x|}$. \n",
    "\n",
    "We know that $g$ is smooth, so these derivatives exist. We can estimate $g, g'$ by saying that both are equal to $10^{-20}$, since that is given as an upper bound. So then we can plug in these for a and b in the error formula.\n",
    "\n",
    "We then have $E = \\frac{-h^2}{12}(\\frac{e^{-|10|}(|10|g'(10) - 10g(10))}{|10|} - \\frac{e^{-|-10|}(|-10|g'(-10) + 10g(-10))}{|-10|}) + O(h^4)$.\n",
    "\n",
    "Simplify...\n",
    "\n",
    "$E = \\frac{-h^2}{12}(\\frac{e^{-|10|}(|10|g'(10) - 10g(10) + |10|g'(-10) + 10g(-10))}{|10|} + O(h^4)$ \n",
    "\n",
    "$E = \\frac{-h^2}{12}(\\frac{e^{-|10|}(|10|g'(10) - 10g(10) + |10|g'(-10) + 10g(-10))}{|10|} + O(h^4)$ \n",
    "\n",
    "$E = \\frac{-h^2}{12}(e^{-10}(g'(10) - g(10) + g'(-10) + g(-10)) + O(h^4)$ \n",
    "\n",
    "We know $e^{-10}$ is already on the order of $10^{-5}$, so if in addition $g$ is small, this error function will be approximately $h^2 O(10^{-26}) + O(h^4)$. We cannot get the exact value of C1 since $g$ is not exactly given, but this does give a good upper bound.\n",
    "\n",
    "Alternately, we can say split the function into two pieces, the positive half from 0 to 10 and the negative half from -10 to 0. Exploring this avenue, we get...\n",
    "\n",
    "Ignore the $h^2/12$ term for the moment, just for simplicity. Simply consider the derivative component.\n",
    "\n",
    "The error for the half of the integral from 0 to 10 is $\\frac{e^{-|x|}(|x|g'(x) - xg(x))}{|x|}$ at x = 10 minus the same function at x = 0. Unfortunately, the function is undefined at 0, but there may be a solution.\n",
    "\n",
    "The error for the half of the integral from -10 to 0 is $\\frac{e^{-|x|}(|x|g'(x) - xg(x))}{|x|}$ at x = 0 minus the same function at x = -10. This negates the issue of the function being undefined at the point. So now we are just left with $\\frac{e^{-|10|}(|10|g'(x) - 10g(10))}{|10|} - \\frac{e^{-|-10|}(|-10|g'(-10) + 10g(-10))}{|-10|}$. Of course, this simply returns us to where we were above.\n"
   ]
  },
  {
   "cell_type": "markdown",
   "metadata": {},
   "source": [
    "Problem one part four\n",
    "\n",
    "Our goal is to remove the $h^2$ term. If the function is smooth, we can do this quite simply since it is best approximated by (as per our error formula) by the equation $-\\frac{1}{12}(f'(a) - f'(b))h^2$. Simply add this to the trapezoidal formula in each trapezoid to make it fourth order."
   ]
  },
  {
   "cell_type": "code",
   "execution_count": 215,
   "metadata": {},
   "outputs": [
    {
     "name": "stdout",
     "output_type": "stream",
     "text": [
      "[1.08674333e+00 2.02825325e-01 8.43673484e-03 5.07967606e-04\n",
      " 3.15361128e-05 1.96801980e-06]\n"
     ]
    }
   ],
   "source": [
    "#Problem one part five\n",
    "\n",
    "def fb(x):\n",
    "    return np.exp(-((x+0.1)**2) - np.abs(x))\n",
    "\n",
    "def fp(x):\n",
    "    return misc.derivative(fb, x)\n",
    "\n",
    "trub = spint.quad(fb, -10, 10, epsabs = 1*10**(-12))\n",
    "\n",
    "bpts = np.zeros(6)\n",
    "startval = -10\n",
    "endval = 10\n",
    "\n",
    "for i in range (1, 7):\n",
    "    pts = np.linspace(startval, endval, 2**(2*i))\n",
    "    fpts = fb(pts)\n",
    "    fppts = fp(pts)\n",
    "    corrval = 0\n",
    "    for k in range(0, len(pts)-1):\n",
    "        corrval = corrval + (((pts[k+1] - pts[k])**2)/12)*(fppts[k] - fppts[k+1])\n",
    "    bpts[i-1] = np.abs(spint.trapz(fpts, x = pts) + corrval - trub[0])\n",
    "\n",
    "#TESTING VERSION, PLEASE IGNORE\n",
    "#for i in range (1, 7):\n",
    "#    pts = np.linspace(-10, 10, 2**(i))\n",
    "#    fpts = fb(pts)\n",
    "#    fppts = fp(pts)\n",
    "#    corrval = 0\n",
    "#    for k in range(0, len(pts)-1):\n",
    "#        corrval = corrval + (((pts[k+1] - pts[k])**2)/12)*(fppts[k] - fppts[k+1])\n",
    "#    bpts[i-1] = np.abs(spint.trapz(fpts, x = pts) -corrval - trub[0])\n",
    "\n",
    "#plt.figure(2)\n",
    "#plt.loglog(bpts)\n",
    "\n",
    "print(bpts)\n",
    "\n",
    "#from the points, we can clearly see approximate fourth order convergence"
   ]
  },
  {
   "cell_type": "code",
   "execution_count": 212,
   "metadata": {},
   "outputs": [
    {
     "name": "stdout",
     "output_type": "stream",
     "text": [
      "(estimate, error): (-12.070346316389635, 1.7582219880446364e-13)\n",
      "(estimate, error): (5.508429773886771, 4.472640391384175e-08)\n",
      "(estimate, error): (3.9898122725860024, 1.8812109574991397e-08)\n",
      "(estimate, error): (0.5, 3.1147513347725457e-09)\n"
     ]
    }
   ],
   "source": [
    "#Problem two\n",
    "def f1(x):\n",
    "    return np.exp(x)*np.cos(x)\n",
    "\n",
    "def f2(x):\n",
    "    return np.exp(x**2)/np.sqrt(1-x**2)\n",
    "\n",
    "def f3(x):\n",
    "    return np.exp(-x**2)*np.exp(np.cos(x))\n",
    "\n",
    "def f4(x):\n",
    "    return np.exp(-x)*np.cos(x)\n",
    "\n",
    "#part 1\n",
    "e1 = spint.quad(f1, 0, math.pi)\n",
    "print(\"(estimate, error):\", e1)\n",
    "#part 2\n",
    "e2 = spint.quad(f2, -1, 1)\n",
    "print(\"(estimate, error):\", e2)\n",
    "#part 3\n",
    "e3 = spint.quad(f3, -np.inf, np.inf)\n",
    "print(\"(estimate, error):\", e3)\n",
    "#part 4\n",
    "e4 = spint.quad(f4, 0, np.inf)\n",
    "print(\"(estimate, error):\", e4)"
   ]
  },
  {
   "cell_type": "code",
   "execution_count": 213,
   "metadata": {},
   "outputs": [
    {
     "name": "stdout",
     "output_type": "stream",
     "text": [
      "(estimate, error): (2.2309851414041346, 2.476891071583481e-14)\n",
      "(estimate, error): (0.31415439954313085, 8.392849089322585e-11)\n",
      "(estimate, error): (0.03141592653589761, 1.47119637350431e-08)\n"
     ]
    }
   ],
   "source": [
    "#Problem three\n",
    "\n",
    "#This is an adaptive quadrature method in Scipy\n",
    "\n",
    "f1 = lambda y, x: np.exp(-x**2*1 - y**2*1)\n",
    "f10 = lambda y, x: np.exp(-x**2*10 - y**2*10)\n",
    "f100 = lambda y, x: np.exp(-x**2*100 - y**2*100)\n",
    "#k=1\n",
    "k1 = spint.dblquad(f1, -1, 1, lambda x: -1, lambda x: 1)\n",
    "print(\"(estimate, error):\", k1)\n",
    "#k=10\n",
    "k10 = spint.dblquad(f10, -1, 1, lambda x: -1, lambda x: 1)\n",
    "print(\"(estimate, error):\", k10)\n",
    "#k=100\n",
    "k100 = spint.dblquad(f100, -1, 1, lambda x: -1, lambda x: 1)\n",
    "print(\"(estimate, error):\", k100)"
   ]
  },
  {
   "cell_type": "code",
   "execution_count": null,
   "metadata": {},
   "outputs": [],
   "source": []
  },
  {
   "cell_type": "code",
   "execution_count": null,
   "metadata": {},
   "outputs": [],
   "source": []
  }
 ],
 "metadata": {
  "kernelspec": {
   "display_name": "Python 3",
   "language": "python",
   "name": "python3"
  },
  "language_info": {
   "codemirror_mode": {
    "name": "ipython",
    "version": 3
   },
   "file_extension": ".py",
   "mimetype": "text/x-python",
   "name": "python",
   "nbconvert_exporter": "python",
   "pygments_lexer": "ipython3",
   "version": "3.6.5"
  }
 },
 "nbformat": 4,
 "nbformat_minor": 2
}
